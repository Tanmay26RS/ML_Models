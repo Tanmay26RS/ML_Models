{
 "cells": [
  {
   "cell_type": "code",
   "execution_count": 2,
   "metadata": {},
   "outputs": [
    {
     "name": "stdout",
     "output_type": "stream",
     "text": [
      "Accuracy: 0.85\n",
      "Classification Report:\n",
      "               precision    recall  f1-score   support\n",
      "\n",
      "           0       1.00      0.75      0.86         4\n",
      "           1       0.83      1.00      0.91         5\n",
      "           2       0.75      0.60      0.67        10\n",
      "           3       0.67      0.83      0.74        12\n",
      "           4       0.90      0.82      0.86        22\n",
      "           5       0.93      0.96      0.95        27\n",
      "\n",
      "    accuracy                           0.85        80\n",
      "   macro avg       0.85      0.83      0.83        80\n",
      "weighted avg       0.86      0.85      0.85        80\n",
      "\n",
      "Confusion Matrix:\n",
      " [[ 3  0  1  0  0  0]\n",
      " [ 0  5  0  0  0  0]\n",
      " [ 0  1  6  3  0  0]\n",
      " [ 0  0  1 10  1  0]\n",
      " [ 0  0  0  2 18  2]\n",
      " [ 0  0  0  0  1 26]]\n"
     ]
    }
   ],
   "source": [
    "# Import necessary libraries\n",
    "import pandas as pd\n",
    "from sklearn.model_selection import train_test_split\n",
    "from sklearn.neighbors import KNeighborsClassifier\n",
    "from sklearn.metrics import accuracy_score, classification_report, confusion_matrix\n",
    "\n",
    "# Load your data\n",
    "# Replace 'data.csv' with your actual data file\n",
    "data = pd.read_csv(r\"C:\\Users\\shrey\\OneDrive\\Desktop\\ProjectModels\\bmi_train.csv\")\n",
    "\n",
    "# Define features (X) and target (y)\n",
    "# Replace 'feature1', 'feature2', etc., and 'target' with actual column names from your dataset\n",
    "X = data[['Height', 'Weight']]  # Input features\n",
    "y = data['Index']  # Target variable (BMI category)\n",
    "\n",
    "# Split the data into training and testing sets\n",
    "X_train, X_test, y_train, y_test = train_test_split(X, y, test_size=0.2, random_state=42)\n",
    "\n",
    "# Initialize the KNN Classifier\n",
    "# You can adjust n_neighbors for optimal performance\n",
    "knn_clf = KNeighborsClassifier(n_neighbors=5)\n",
    "\n",
    "# Train the model\n",
    "knn_clf.fit(X_train, y_train)\n",
    "\n",
    "# Make predictions on the test set\n",
    "y_pred = knn_clf.predict(X_test)\n",
    "\n",
    "# Evaluate the model\n",
    "accuracy = accuracy_score(y_test, y_pred)\n",
    "print(\"Accuracy:\", accuracy)\n",
    "\n",
    "# Detailed classification report\n",
    "print(\"Classification Report:\\n\", classification_report(y_test, y_pred))\n",
    "\n",
    "# Confusion matrix\n",
    "print(\"Confusion Matrix:\\n\", confusion_matrix(y_test, y_pred))\n"
   ]
  }
 ],
 "metadata": {
  "kernelspec": {
   "display_name": "Python 3",
   "language": "python",
   "name": "python3"
  },
  "language_info": {
   "codemirror_mode": {
    "name": "ipython",
    "version": 3
   },
   "file_extension": ".py",
   "mimetype": "text/x-python",
   "name": "python",
   "nbconvert_exporter": "python",
   "pygments_lexer": "ipython3",
   "version": "3.11.9"
  }
 },
 "nbformat": 4,
 "nbformat_minor": 2
}
